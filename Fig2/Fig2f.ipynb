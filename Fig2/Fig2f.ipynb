{
 "cells": [
  {
   "cell_type": "code",
   "execution_count": 33,
   "metadata": {},
   "outputs": [],
   "source": [
    "import numpy as np\n",
    "import matplotlib.pyplot as plt\n",
    "from scipy.optimize import linprog\n",
    "import seaborn as sns"
   ]
  },
  {
   "cell_type": "code",
   "execution_count": 34,
   "metadata": {},
   "outputs": [],
   "source": [
    "def spar(x,f,pos,range):\n",
    "    y=0*x\n",
    "    for i in np.arange(0,np.size(x,1)):\n",
    "        ii=np.random.permutation(np.size(x,0))\n",
    "        nn=int(max(1,np.fix(np.size(x,0)*f)))\n",
    "        if pos==1:\n",
    "            for j in np.arange(0,nn,1):\n",
    "                y[ii[j],i]=np.random.randint(1,range+1)\n",
    "\n",
    "        if pos==-1:\n",
    "            for j in np.arange(0,nn,1):\n",
    "                y[ii[j],i]=-np.random.randint(1,range+1)\n",
    "\n",
    "        if pos==0:\n",
    "            for j in np.arange(0,nn,1):\n",
    "                y[ii[j],i]=np.random.randint(1,range+1)*((np.random.rand()>0.5)*2-1)\n",
    "            pin=0\n",
    "            \n",
    "            for j in np.arange(np.size(y,0)):\n",
    "                if y[j,i]<0:\n",
    "                    pin=1\n",
    "                    break\n",
    "            if pin==0:\n",
    "                for j in np.arange(np.size(y,0)):\n",
    "                    if y[j,i]>0:\n",
    "                        y[j,i]=-y[j,i]\n",
    "                        break\n",
    "    return y"
   ]
  },
  {
   "cell_type": "code",
   "execution_count": 35,
   "metadata": {},
   "outputs": [],
   "source": [
    "def GenomeMatrix(NumMet,NumGene):\n",
    "    NumGeneIn=NumGene-NumMet/4\n",
    "    S=np.zeros((NumMet,int(NumGeneIn+NumMet/4)))\n",
    "    range=3\n",
    "    Num1=int(NumMet/4)\n",
    "\n",
    "    t=S[0:Num1,int(NumMet/4):int(NumGeneIn/4+NumMet/4)]\n",
    "    S[0:Num1,int(NumMet/4):int(NumGeneIn/4+NumMet/4)]=spar(t,0.5,-1,3)\n",
    "\n",
    "    t=S[Num1:2*Num1,int(NumMet/4):int(NumGeneIn/4+NumMet/4)]\n",
    "    S[Num1:2*Num1,int(NumMet/4):int(NumGeneIn/4+NumMet/4)]=spar(t,0.5,1,3)\n",
    "\n",
    "    t=S[Num1:2*Num1,int(NumGeneIn/4+NumMet/4):int(NumGeneIn*3/4+NumMet/4)]\n",
    "    S[Num1:2*Num1,int(NumGeneIn/4+NumMet/4):int(NumGeneIn*3/4+NumMet/4)]=spar(t,0.8,0,3)\n",
    "    \n",
    "    t=S[Num1:2*Num1,int(NumGeneIn*3/4+NumMet/4):int(NumGeneIn+NumMet/4)]\n",
    "    S[Num1:2*Num1,int(NumGeneIn*3/4+NumMet/4):int(NumGeneIn+NumMet/4)]=spar(t,0.5,-1,3)\n",
    "\n",
    "    t=S[2*Num1:3*Num1,int(NumGeneIn*3/4+NumMet/4):int(NumGeneIn+NumMet/4)]\n",
    "    S[2*Num1:3*Num1,int(NumGeneIn*3/4+NumMet/4):int(NumGeneIn+NumMet/4)]=spar(t,0.5,1,3)\n",
    "\n",
    "    for i in np.arange(0,int(NumMet/4),1):\n",
    "        S[i,i]=np.random.randint(1,4)\n",
    "    return S"
   ]
  },
  {
   "cell_type": "code",
   "execution_count": 36,
   "metadata": {},
   "outputs": [],
   "source": [
    "def PlasmidMatrix(NumMet,NumGene):\n",
    "    S=np.zeros((int(NumMet),int(NumGene)))\n",
    "    range=3\n",
    "    Num1=int(NumMet/4)\n",
    "\n",
    "    t=S[Num1:2*Num1,0:int(NumGene)] \n",
    "    S[Num1:2*Num1,0:int(NumGene)]=spar(t,0.5,-1,3)\n",
    "\n",
    "    t=S[Num1*3:Num1*4,0:int(NumGene)]\n",
    "    S[Num1*3:Num1*4,0:int(NumGene)]=spar(t,0.5,1,3)\n",
    "\n",
    "    return S"
   ]
  },
  {
   "cell_type": "code",
   "execution_count": 37,
   "metadata": {},
   "outputs": [],
   "source": [
    "NumMet=80\n",
    "Type234Gene=np.subtract([2000],NumMet/4)\n",
    "Replicates=5\n",
    "SelfishnessS=np.arange(0.2,2.2,0.2)\n",
    "PlasSizes=np.arange(0,1000,100)"
   ]
  },
  {
   "cell_type": "code",
   "execution_count": 38,
   "metadata": {},
   "outputs": [
    {
     "name": "stdout",
     "output_type": "stream",
     "text": [
      "0\n",
      "1\n",
      "2\n",
      "3\n",
      "4\n",
      "5\n",
      "6\n",
      "7\n",
      "8\n",
      "9\n",
      "10\n",
      "11\n",
      "12\n",
      "13\n",
      "14\n",
      "15\n",
      "16\n",
      "17\n",
      "18\n",
      "19\n",
      "20\n",
      "21\n",
      "22\n",
      "23\n",
      "24\n",
      "25\n",
      "26\n",
      "27\n",
      "28\n",
      "29\n",
      "30\n",
      "31\n",
      "32\n",
      "33\n",
      "34\n",
      "35\n",
      "36\n",
      "37\n",
      "38\n",
      "39\n",
      "40\n",
      "41\n",
      "42\n",
      "43\n",
      "44\n",
      "45\n",
      "46\n",
      "47\n",
      "48\n",
      "49\n"
     ]
    }
   ],
   "source": [
    "BURD=np.zeros((len(SelfishnessS),Replicates,len(PlasSizes)))\n",
    "PlasCap=np.zeros((len(SelfishnessS),Replicates,len(PlasSizes)))\n",
    "TotalSelection=np.zeros((len(SelfishnessS),Replicates,len(PlasSizes)))\n",
    "for sdf in np.arange(0,len(SelfishnessS),1):\n",
    "    Selfishness=SelfishnessS[sdf]\n",
    "    ChroSize=int(Type234Gene+NumMet/4)\n",
    "    for rty in np.arange(0,Replicates,1):\n",
    "        print(sdf*Replicates+rty)\n",
    "        ChroNetwork=GenomeMatrix(NumMet,ChroSize)\n",
    "        NumFluxs=np.add(ChroSize,PlasSizes)\n",
    "        coef0=np.random.rand(int(max(NumFluxs)))\n",
    "        GR=[]\n",
    "        PGR=[]\n",
    "        for i in np.arange(0,len(NumFluxs),1):\n",
    "            NumFlux=NumFluxs[i]\n",
    "            coef=np.concatenate((coef0[0:ChroSize],Selfishness*coef0[ChroSize:NumFlux]),axis=0)\n",
    "            CellNetwork=np.concatenate((ChroNetwork,PlasmidMatrix(NumMet,NumFlux-ChroSize)),axis=1)\n",
    "            b0=(0,1)\n",
    "            Bounds=[b0]\n",
    "            for j in np.arange(0,NumFlux-1,1):\n",
    "                Bounds.append(b0)\n",
    "            CC=np.concatenate((0*coef[0:int(3/4*Type234Gene+NumMet/4)],-coef[int(3/4*Type234Gene+NumMet/4):int(NumFlux)]),axis=0)\n",
    "            Aeq=CellNetwork[0:int(NumMet/2),0:NumFlux]\n",
    "            Beq=np.zeros(int(NumMet/2))\n",
    "            #result = linprog(CC, A_ub=None, b_ub=None, A_eq=Aeq, b_eq=Beq, bounds=Bounds,x0=np.random.rand(NumFlux))\n",
    "            result = linprog(CC, A_ub=None, b_ub=None, A_eq=Aeq, b_eq=Beq, bounds=Bounds,x0=None)\n",
    "            tt=result.x\n",
    "            terp1=sum(np.multiply(coef[int(3/4*Type234Gene+NumMet/4):ChroSize],tt[int(3/4*Type234Gene+NumMet/4):ChroSize]))\n",
    "            terp2=sum(np.multiply(coef[ChroSize:NumFlux],tt[ChroSize:NumFlux]))\n",
    "            GR=np.append(GR,terp1)\n",
    "            PGR=np.append(PGR,terp2)\n",
    "            BURD[sdf,rty,i]=1-GR[-1]/GR[0]\n",
    "            PlasCap[sdf,rty,i]=GR[-1]/(GR[-1]+PGR[-1])\n",
    "            TotalSelection[sdf,rty,i]=BURD[sdf,rty,i]+PlasCap[sdf,rty,i]\n",
    "            \n"
   ]
  },
  {
   "cell_type": "code",
   "execution_count": 41,
   "metadata": {},
   "outputs": [
    {
     "data": {
      "image/png": "[encoded data removed]",
      "text/plain": [
       "<Figure size 270x200 with 2 Axes>"
      ]
     },
     "metadata": {},
     "output_type": "display_data"
    }
   ],
   "source": [
    "plt.figure(figsize=(2.7,2))\n",
    "mm=np.zeros((len(PlasSizes)-1,len(SelfishnessS)))\n",
    "for i in np.arange(1,len(PlasSizes),1):\n",
    "    for j in range(len(SelfishnessS)):\n",
    "        mm[i-1,j]=np.mean(PlasCap[j,0:Replicates,i])\n",
    "    \n",
    "ax=sns.heatmap(data=mm,cmap='OrRd',linewidths=0.5,linecolor='gray')\n",
    "ax.invert_yaxis()\n",
    "plt.tick_params(direction='in',left=False,bottom=False)\n",
    "plt.xlabel(r'$\\alpha$',fontsize=16)\n",
    "plt.ylabel('plasmid size',fontsize=16)\n",
    "plt.savefig('Fig2f.pdf')\n",
    "plt.show()\n"
   ]
  }
 ],
 "metadata": {
  "kernelspec": {
   "display_name": "Python 3",
   "language": "python",
   "name": "python3"
  },
  "language_info": {
   "codemirror_mode": {
    "name": "ipython",
    "version": 3
   },
   "file_extension": ".py",
   "mimetype": "text/x-python",
   "name": "python",
   "nbconvert_exporter": "python",
   "pygments_lexer": "ipython3",
   "version": "3.11.3"
  }
 },
 "nbformat": 4,
 "nbformat_minor": 2
}
